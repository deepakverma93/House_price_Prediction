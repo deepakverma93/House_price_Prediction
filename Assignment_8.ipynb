{
 "cells": [
  {
   "cell_type": "markdown",
   "id": "cd53607f",
   "metadata": {},
   "source": [
    "# Assignment No.>> 8"
   ]
  },
  {
   "cell_type": "markdown",
   "id": "f24a7251",
   "metadata": {},
   "source": [
    "## Topic:>> Regular Expressions"
   ]
  },
  {
   "cell_type": "markdown",
   "id": "3585070a",
   "metadata": {},
   "source": [
    "# 1) Write a python program to check that a string contains only a certain set of characters (in this case a-z, A-Z, and 0-9)."
   ]
  },
  {
   "cell_type": "code",
   "execution_count": 22,
   "id": "2dbe57e7",
   "metadata": {},
   "outputs": [
    {
     "name": "stdout",
     "output_type": "stream",
     "text": [
      "['ASDFG1234w', 'POUST5689n', 'XYZRT5689m', 'CFGHU6543d']\n"
     ]
    }
   ],
   "source": [
    "import re \n",
    "\n",
    "text=\"\"\" PAN CARD NUMBERS:\n",
    "         ASDFG1234w   \n",
    "         POUST5689n   \n",
    "         XYZRT5689m   \n",
    "         CFGHU6543d  \n",
    "\"\"\"\n",
    "\n",
    "PAN_CARD= re.findall(\"[A-Z]{5}[0-9]{4}[a-z]{1}\",text)\n",
    "print(PAN_CARD)"
   ]
  },
  {
   "cell_type": "markdown",
   "id": "e207abe2",
   "metadata": {},
   "source": [
    "# 2) Create a program to split a string by only the first occurrence of any substring."
   ]
  },
  {
   "cell_type": "code",
   "execution_count": 23,
   "id": "38a1190d",
   "metadata": {},
   "outputs": [
    {
     "data": {
      "text/plain": [
       "['python ', ' data science and sql']"
      ]
     },
     "execution_count": 23,
     "metadata": {},
     "output_type": "execute_result"
    }
   ],
   "source": [
    "string=\"python and data science and sql\"\n",
    "str1=re.split(\"and\",string,1)\n",
    "str1"
   ]
  },
  {
   "cell_type": "markdown",
   "id": "f046fa4d",
   "metadata": {},
   "source": [
    "# 3) Code that would match a string that has an a followed by zero or more b's."
   ]
  },
  {
   "cell_type": "code",
   "execution_count": 65,
   "id": "7434b80b",
   "metadata": {},
   "outputs": [
    {
     "name": "stdout",
     "output_type": "stream",
     "text": [
      "['aaaab', ' arab']\n",
      "['aaaab', ' ']\n"
     ]
    }
   ],
   "source": [
    "import re\n",
    "text=\" aaaab arab \"\n",
    "text1=\"aaaab aaabncncn\"\n",
    "pattern=re.compile(r\"\\b[^b]+[b]*\\b\")\n",
    "x=re.findall(pattern,text)\n",
    "x1=re.findall(pattern,text1)\n",
    "print(x)\n",
    "print(x1)"
   ]
  },
  {
   "cell_type": "markdown",
   "id": "95b6d875",
   "metadata": {},
   "source": [
    "# 4) Wap to find Three-digit numbers followed by space followed by two-digit numbers in a string."
   ]
  },
  {
   "cell_type": "code",
   "execution_count": 27,
   "id": "22935d52",
   "metadata": {},
   "outputs": [
    {
     "name": "stdout",
     "output_type": "stream",
     "text": [
      "['333 23']\n"
     ]
    }
   ],
   "source": [
    "import re\n",
    "vehicle=\"01 DB 333 23 \"\n",
    "no=re.findall(r\"\\b[0-9]{3}[ ]\\d{2}\\b\",vehicle)\n",
    "print(no)\n"
   ]
  },
  {
   "cell_type": "markdown",
   "id": "495fdc3b",
   "metadata": {},
   "source": [
    "# 5) Write a Python program that matches a string that has an a followed by one or more b's."
   ]
  },
  {
   "cell_type": "code",
   "execution_count": 28,
   "id": "a9324d7e",
   "metadata": {},
   "outputs": [
    {
     "name": "stdout",
     "output_type": "stream",
     "text": [
      "[' anshdkkdbbbbb']\n"
     ]
    }
   ],
   "source": [
    "import re\n",
    "text=\"aaaa baaaabbbb anshdkkdbbbbb\"\n",
    "\n",
    "pattern=re.compile(r\"\\b[^b]+[b]+\\b\")\n",
    "x=re.findall(pattern,text)\n",
    "\n",
    "print(x)\n"
   ]
  },
  {
   "cell_type": "markdown",
   "id": "7e3474c3",
   "metadata": {},
   "source": [
    "# 6) Write a program to search inform in a string both in uppercase & in lowercase)(INFORM or inform)"
   ]
  },
  {
   "cell_type": "code",
   "execution_count": 60,
   "id": "01956483",
   "metadata": {},
   "outputs": [
    {
     "name": "stdout",
     "output_type": "stream",
     "text": [
      "['INFORM', 'inform']\n"
     ]
    }
   ],
   "source": [
    "import re\n",
    "text=\"INFORM or inform\"\n",
    "word=re.findall(r\"inform|INFORM\",text)\n",
    "print(word)"
   ]
  },
  {
   "cell_type": "markdown",
   "id": "1b884869",
   "metadata": {},
   "source": [
    "# 7) WAP that matches a string that has an a followed by zero or one 'b'."
   ]
  },
  {
   "cell_type": "code",
   "execution_count": 55,
   "id": "f10ad961",
   "metadata": {},
   "outputs": [
    {
     "name": "stdout",
     "output_type": "stream",
     "text": [
      "['aaaa ', ' anshdkkdb']\n"
     ]
    }
   ],
   "source": [
    "import re\n",
    "text=\"aaaa baaaabbbb anshdkkdb\"\n",
    "\n",
    "pattern=re.compile(r\"\\b[^b]+[b]*\\b\")\n",
    "x=re.findall(pattern,text)\n",
    "\n",
    "print(x)\n"
   ]
  },
  {
   "cell_type": "markdown",
   "id": "0745f7b0",
   "metadata": {},
   "source": [
    "# 8) WAP that matches a string that has an a followed by three 'b'."
   ]
  },
  {
   "cell_type": "code",
   "execution_count": 54,
   "id": "81d695f5",
   "metadata": {},
   "outputs": [
    {
     "name": "stdout",
     "output_type": "stream",
     "text": [
      "['aaabbbb', 'anshdkkdbbb', 'asdfgjbbbbb']\n"
     ]
    }
   ],
   "source": [
    "import re\n",
    "text=\"aaaa aaabbbb anshdkkdbbb asdfgjbbbbb\"\n",
    "\n",
    "pattern=re.compile(r\"\\b[a-z]+[b]{3}\")\n",
    "x=re.findall(pattern,text)\n",
    "\n",
    "print(x)\n"
   ]
  },
  {
   "cell_type": "markdown",
   "id": "2b6a41a5",
   "metadata": {},
   "source": [
    "# 9) Write a Python program that matches a string that has an a followed by two to three 'b'."
   ]
  },
  {
   "cell_type": "code",
   "execution_count": 66,
   "id": "0645f72d",
   "metadata": {},
   "outputs": [
    {
     "name": "stdout",
     "output_type": "stream",
     "text": [
      "[' anshdkkdbbb', ' asdfgjbb']\n",
      "[' aaancncnbb', ' asdfbbb']\n"
     ]
    }
   ],
   "source": [
    "import re\n",
    "text=\"aaaa baaaabbbb anshdkkdbbb asdfgjbb\"\n",
    "text1=\"aaaab aaancncnbb asdfbbb\"\n",
    "pattern=re.compile(r\"\\b[^b]+[b]{2,3}\\b\")\n",
    "x=re.findall(pattern,text)\n",
    "x1=re.findall(pattern,text1)\n",
    "print(x)\n",
    "print(x1)"
   ]
  },
  {
   "cell_type": "markdown",
   "id": "d34f3b6f",
   "metadata": {},
   "source": [
    "# 10)Find all the words starting in range of k-n using a for loop & re."
   ]
  },
  {
   "cell_type": "code",
   "execution_count": 41,
   "id": "01dafdac",
   "metadata": {},
   "outputs": [
    {
     "name": "stdout",
     "output_type": "stream",
     "text": [
      "['kind', 'king', 'lemon', 'mango', 'light', 'night', 'nice']\n"
     ]
    }
   ],
   "source": [
    "import re\n",
    "text = \"kind king lemon mango light night sjhdhdk nice .\"\n",
    "list = re.findall(r\"\\b[k-nK-N]\\w+\\b\", text)\n",
    "print(list)"
   ]
  },
  {
   "cell_type": "markdown",
   "id": "1cffb1b4",
   "metadata": {},
   "source": [
    "# 11) Write a Python program to find sequences of lowercase letters joined with an underscore."
   ]
  },
  {
   "cell_type": "code",
   "execution_count": 42,
   "id": "ee04bf07",
   "metadata": {},
   "outputs": [
    {
     "name": "stdout",
     "output_type": "stream",
     "text": [
      "['deepak_verma']\n"
     ]
    }
   ],
   "source": [
    "import re\n",
    "text2=\"Virat_kohli,ms_Dhoni,deepak_verma\"\n",
    "text3=re.findall(r\"\\b[a-z]+[_]{1}[a-z]+\\b\",text2)\n",
    "print(text3)"
   ]
  },
  {
   "cell_type": "markdown",
   "id": "481aa7e6",
   "metadata": {},
   "source": [
    "# 12)Write a program to find the sequences of one upper case letter followed by lower case letters."
   ]
  },
  {
   "cell_type": "code",
   "execution_count": 43,
   "id": "ce4a7253",
   "metadata": {},
   "outputs": [
    {
     "name": "stdout",
     "output_type": "stream",
     "text": [
      "['Virat_kohli', 'Deepak_verma']\n"
     ]
    }
   ],
   "source": [
    "import re\n",
    "text2=\"Virat_kohli,ms_dhoni,Deepak_verma\"\n",
    "text3=re.findall(r\"\\b[A-Z]{1}[a-z]+[_]{1}[a-z]+\\b\",text2)\n",
    "print(text3)"
   ]
  },
  {
   "cell_type": "markdown",
   "id": "d2efda53",
   "metadata": {},
   "source": [
    "# 13)Write a program that matches a string that has an 'a' followed by anything, ending in 'b'."
   ]
  },
  {
   "cell_type": "code",
   "execution_count": 52,
   "id": "b183871a",
   "metadata": {},
   "outputs": [
    {
     "name": "stdout",
     "output_type": "stream",
     "text": [
      "['aCDb aaabb awertcb weryuhgb']\n"
     ]
    }
   ],
   "source": [
    "import re\n",
    "text1=\"aCDb aaabb awertcb weryuhgb\"\n",
    "text2=re.findall(r\"\\ba.+b$\\b\",text1)\n",
    "print(text2)"
   ]
  },
  {
   "cell_type": "markdown",
   "id": "764a12f4",
   "metadata": {},
   "source": [
    "# 14)WAP that matches a word at the beginning of a string."
   ]
  },
  {
   "cell_type": "code",
   "execution_count": 47,
   "id": "f8945f3e",
   "metadata": {},
   "outputs": [
    {
     "data": {
      "text/plain": [
       "['The']"
      ]
     },
     "execution_count": 47,
     "metadata": {},
     "output_type": "execute_result"
    }
   ],
   "source": [
    "import re\n",
    "string = \"The rain in INDIA\"\n",
    "\n",
    "word=re.findall(r\"\\AThe\",string)\n",
    "word"
   ]
  },
  {
   "cell_type": "markdown",
   "id": "39eb674e",
   "metadata": {},
   "source": [
    "# 15)Write a program that matches a word at the end of a string, with optional punctuation."
   ]
  },
  {
   "cell_type": "code",
   "execution_count": 60,
   "id": "6b64dd4f",
   "metadata": {},
   "outputs": [
    {
     "name": "stdout",
     "output_type": "stream",
     "text": [
      "prashant\n"
     ]
    }
   ],
   "source": [
    "import re\n",
    "text=\"vaibhav prashant deepak\"\n",
    "text2=re.search(\"deepak|prashant\",text)\n",
    "print(text2.group())"
   ]
  },
  {
   "cell_type": "markdown",
   "id": "ec91b221",
   "metadata": {},
   "source": [
    "# 16)Write a Python program that matches a word containing 'z'."
   ]
  },
  {
   "cell_type": "code",
   "execution_count": 50,
   "id": "be737e3c",
   "metadata": {},
   "outputs": [
    {
     "name": "stdout",
     "output_type": "stream",
     "text": [
      "['altroz', 'albatroz', 'zionzz']\n"
     ]
    }
   ],
   "source": [
    "import re\n",
    "text=\"altroz,albatroz,zionzz\"\n",
    "z=re.findall(r\"[a-z]+\\Bz[a-z]*\",text)\n",
    "print(z)"
   ]
  },
  {
   "cell_type": "markdown",
   "id": "a30e6d2b",
   "metadata": {},
   "source": [
    "# 17)Write a program that matches a word containing 'z', not at the start or end of the word."
   ]
  },
  {
   "cell_type": "code",
   "execution_count": 51,
   "id": "d9ff5cbf",
   "metadata": {},
   "outputs": [
    {
     "name": "stdout",
     "output_type": "stream",
     "text": [
      "['azipro', 'cozy', 'coze']\n"
     ]
    }
   ],
   "source": [
    "import re\n",
    "text=\"azipro,cozy,buzz,coze\"\n",
    "z=re.findall(r\"[a-y]+\\Bz[a-y]+\",text)\n",
    "print(z)"
   ]
  },
  {
   "cell_type": "markdown",
   "id": "51675d0d",
   "metadata": {},
   "source": [
    "# 18)Write a program to match a string that contains only upper and lowercase letters, numbers, and underscores."
   ]
  },
  {
   "cell_type": "code",
   "execution_count": 43,
   "id": "b6e885f0",
   "metadata": {},
   "outputs": [
    {
     "name": "stdout",
     "output_type": "stream",
     "text": [
      "['virat6115_', 'Deepak93_', 'msdhoni_7']\n"
     ]
    }
   ],
   "source": [
    "import re\n",
    "t=\"virat6115_  ,Deepak93_ ,msdhoni_7\"\n",
    "idz=re.findall(\"[A-Za-z_0-9]+\",t)\n",
    "print(idz)"
   ]
  },
  {
   "cell_type": "markdown",
   "id": "1223cd84",
   "metadata": {},
   "source": [
    "# 19)WAP where a string will start with a specific number."
   ]
  },
  {
   "cell_type": "code",
   "execution_count": 78,
   "id": "59309fa0",
   "metadata": {},
   "outputs": [
    {
     "name": "stdout",
     "output_type": "stream",
     "text": [
      "['99jdkl', '99resh', '99hkcld']\n"
     ]
    }
   ],
   "source": [
    "import re\n",
    "mo=\"99jdkl bdjdkl wui485 99resh_  99hkcld\"\n",
    "no=re.findall(\"99[a-z0-8]{2,8}\",mo)\n",
    "print(no)"
   ]
  },
  {
   "cell_type": "markdown",
   "id": "9bb40365",
   "metadata": {},
   "source": [
    "# 20)Write a Python program to remove leading zeros from an IP address."
   ]
  },
  {
   "cell_type": "code",
   "execution_count": 37,
   "id": "45ca6245",
   "metadata": {},
   "outputs": [
    {
     "name": "stdout",
     "output_type": "stream",
     "text": [
      "230.2.9\n"
     ]
    }
   ],
   "source": [
    "import re\n",
    "ip=\"230.02.09\"\n",
    "string = re.sub('\\.[0]*', '.', ip)\n",
    "print(string)"
   ]
  },
  {
   "cell_type": "markdown",
   "id": "979411b7",
   "metadata": {},
   "source": [
    "# 21)Write a program to check for a number at the end of a string"
   ]
  },
  {
   "cell_type": "code",
   "execution_count": 57,
   "id": "90c63780",
   "metadata": {},
   "outputs": [
    {
     "name": "stdout",
     "output_type": "stream",
     "text": [
      "['vaibhav2', 'prashant4', 'deepak4']\n"
     ]
    }
   ],
   "source": [
    "import re\n",
    "name=\"\"\"vaibhav2\n",
    "        prashant4\n",
    "        deepak4\n",
    "       \"\"\"\n",
    "name1=re.findall(r\"\\b[a-zA-z]+[0-9]+\\b\",name)\n",
    "print(name1)"
   ]
  },
  {
   "cell_type": "markdown",
   "id": "90059f4d",
   "metadata": {},
   "source": [
    "# 22)Code a program to search the numbers (0-9) of length between 1 to 3 in a given string. \"Exercises number 1, 12, 13, and 345 are important\""
   ]
  },
  {
   "cell_type": "code",
   "execution_count": 24,
   "id": "6ddc0c9b",
   "metadata": {},
   "outputs": [
    {
     "name": "stdout",
     "output_type": "stream",
     "text": [
      "numbers of length between 1 to 3 : ['1', '12', '13', '345']\n"
     ]
    }
   ],
   "source": [
    "import re\n",
    "numbers=\"Exercises number 1, 12, 13, and 345  3456 are important\"\n",
    "search=re.findall(r\"\\b[0-9]{1,3}\\b\",numbers)\n",
    "print(\"numbers of length between 1 to 3 :\",search)"
   ]
  },
  {
   "cell_type": "markdown",
   "id": "c23bbb6c",
   "metadata": {},
   "source": [
    "# 23)Write a program to search some literals strings in a string.\n",
    "Sample text : 'The quick brown fox jumps over the lazy dog.'\n",
    "Searched words : 'fox', 'dog', 'horse'"
   ]
  },
  {
   "cell_type": "code",
   "execution_count": 23,
   "id": "62334043",
   "metadata": {},
   "outputs": [
    {
     "name": "stdout",
     "output_type": "stream",
     "text": [
      "fox\n",
      "dog\n",
      "None\n"
     ]
    }
   ],
   "source": [
    "import re\n",
    "Sampletext= 'The quick brown fox jumps over the lazy dog.'\n",
    "\n",
    "Searched=re.search(\"fox\",Sampletext)\n",
    "Searched2=re.search(\"dog\",Sampletext)\n",
    "Searched3=re.search(\"horse\",Sampletext)\n",
    "\n",
    "print(Searched.group())\n",
    "print(Searched2.group())\n",
    "print(Searched3)"
   ]
  },
  {
   "cell_type": "markdown",
   "id": "5c81a992",
   "metadata": {},
   "source": [
    "# 24)Write a Python program to search a literals string in a string and also find the location within the original string where the pattern occurs.\n",
    "Sample text : 'The quick brown fox jumps over the lazy dog.'\n",
    "Searched words : 'fox'"
   ]
  },
  {
   "cell_type": "code",
   "execution_count": 66,
   "id": "df6637b6",
   "metadata": {},
   "outputs": [
    {
     "name": "stdout",
     "output_type": "stream",
     "text": [
      "fox\n",
      "(16, 19)\n"
     ]
    }
   ],
   "source": [
    "import re\n",
    "text='The quick brown fox jumps over the lazy dog.'\n",
    "result=re.search(\"fox\",text)\n",
    "print(result.group())\n",
    "print(result.span())"
   ]
  },
  {
   "cell_type": "markdown",
   "id": "3c3e6cb9",
   "metadata": {},
   "source": [
    "# 25)Write a code to find a common substrings within a string.\n",
    "Sample text : 'Python exercises, PHP exercises, C# exercises'\n",
    "Pattern : 'exercises'\n",
    "Note: There are two instances of exercises in the input string."
   ]
  },
  {
   "cell_type": "code",
   "execution_count": 3,
   "id": "76b0b06f",
   "metadata": {},
   "outputs": [
    {
     "name": "stdout",
     "output_type": "stream",
     "text": [
      "exercises\n",
      "exercises\n",
      "exercises\n"
     ]
    }
   ],
   "source": [
    "import re\n",
    "Sampletext='Python exercises, PHP exercises, C# exercises'\n",
    "pattern=\"exercises\"\n",
    "for x in re.finditer(pattern,Sampletext):\n",
    "    s=x.start()\n",
    "    e=x.end()\n",
    "    print(Sampletext[s:e])"
   ]
  },
  {
   "cell_type": "markdown",
   "id": "68f68fe1",
   "metadata": {},
   "source": [
    "# 26)Write a program to find the occurrence and position of the substrings within a string."
   ]
  },
  {
   "cell_type": "code",
   "execution_count": 2,
   "id": "2c391765",
   "metadata": {},
   "outputs": [
    {
     "name": "stdout",
     "output_type": "stream",
     "text": [
      "Found \"exercises\" at 7:16\n",
      "Found \"exercises\" at 22:31\n",
      "Found \"exercises\" at 36:45\n"
     ]
    }
   ],
   "source": [
    "import re\n",
    "text = 'Python exercises, PHP exercises, C# exercises'\n",
    "pattern = 'exercises'\n",
    "for x in re.finditer(pattern, text):\n",
    "    s = x.start()\n",
    "    e = x.end()\n",
    "    print('Found \"%s\" at %d:%d' % (text[s:e], s, e))\n"
   ]
  },
  {
   "cell_type": "markdown",
   "id": "3ad4bfa3",
   "metadata": {},
   "source": [
    "# 27)Write a code to replace whitespaces with an underscore and vice versa."
   ]
  },
  {
   "cell_type": "code",
   "execution_count": 16,
   "id": "2110c4b0",
   "metadata": {},
   "outputs": [
    {
     "name": "stdout",
     "output_type": "stream",
     "text": [
      "Python__exercises_,_PHP_exercises,_C#_exercises__\n",
      "Python  exercises , PHP exercises, C# exercises  \n"
     ]
    }
   ],
   "source": [
    "import re\n",
    "text = 'Python_ exercises_, PHP exercises, C# exercises__'\n",
    "result=re.sub(\"\\s\",\"_\",text)\n",
    "result1=re.sub(\"_\",\" \",text)\n",
    "print(result)\n",
    "print(result1)"
   ]
  },
  {
   "cell_type": "markdown",
   "id": "125063b8",
   "metadata": {},
   "source": [
    "# 28)How would you remove all whitespaces from a string?"
   ]
  },
  {
   "cell_type": "code",
   "execution_count": null,
   "id": "bbc3a2b0",
   "metadata": {},
   "outputs": [],
   "source": [
    " re.sub(\"\\s\",\"\") is used to remove all whitespaces from given string."
   ]
  },
  {
   "cell_type": "markdown",
   "id": "e851bae7",
   "metadata": {},
   "source": [
    "# 29)Write a Python program to match if two words from a list of words starting with the letter 'P'"
   ]
  },
  {
   "cell_type": "code",
   "execution_count": 15,
   "id": "f6b4bc23",
   "metadata": {},
   "outputs": [
    {
     "name": "stdout",
     "output_type": "stream",
     "text": [
      "pass\n",
      "prashant\n",
      "python\n"
     ]
    }
   ],
   "source": [
    "import re\n",
    "list1=[\"pass\",\"prashant\",\"python\",\"vaibhav\"]\n",
    "string=\" \".join(list1)\n",
    "pattern=\"p[a-z]+\"\n",
    "for x in re.finditer(pattern,string):\n",
    "    print(x.group())"
   ]
  },
  {
   "cell_type": "markdown",
   "id": "52dfa4c4",
   "metadata": {},
   "source": [
    "# 30)Write a code to find all words starting with 'a' or 'e' in a given string."
   ]
  },
  {
   "cell_type": "code",
   "execution_count": 13,
   "id": "c4565880",
   "metadata": {},
   "outputs": [
    {
     "name": "stdout",
     "output_type": "stream",
     "text": [
      "all\n",
      "east\n",
      "and\n",
      "else\n",
      "all\n"
     ]
    }
   ],
   "source": [
    "import re\n",
    "text=\"all the east and else be the west to all to follow\"\n",
    "pattern=r\"\\ba[a-z]+|\\be[a-z]+\"\n",
    "for x in re.finditer(pattern,text):\n",
    "    print(x.group())"
   ]
  },
  {
   "cell_type": "markdown",
   "id": "1c4dea2c",
   "metadata": {},
   "source": [
    "# 31)Write a Python program to separate and print the numbers and their position of a given string."
   ]
  },
  {
   "cell_type": "code",
   "execution_count": 19,
   "id": "8ddeeca5",
   "metadata": {},
   "outputs": [
    {
     "name": "stdout",
     "output_type": "stream",
     "text": [
      "1 is at index  3\n",
      "2 is at index  5\n",
      "33 is at index  15\n",
      "4444 is at index  22\n"
     ]
    }
   ],
   "source": [
    "import re\n",
    "text=\"one1,2two,three33,four4444\"\n",
    "for x in re.finditer(\"\\d+\",text):\n",
    "    print(x.group(), \"is at index \",x.start())"
   ]
  },
  {
   "cell_type": "markdown",
   "id": "db15229b",
   "metadata": {},
   "source": [
    "# 32)Write a Python program to replace all occurrences of space, comma, or dot with a colon."
   ]
  },
  {
   "cell_type": "code",
   "execution_count": 6,
   "id": "54c35ff6",
   "metadata": {},
   "outputs": [
    {
     "name": "stdout",
     "output_type": "stream",
     "text": [
      "all[:]occurrences[:]of[:]space[:][:]comma[:][:]or[:]dot[:]with[:]a[:]colon[:]\n"
     ]
    }
   ],
   "source": [
    "import re\n",
    "text=\"all occurrences of space, comma, or dot with a colon.\"\n",
    "pattern=re.sub(\"[ ,.]\",\"[:]\",text)\n",
    "print(pattern)"
   ]
  },
  {
   "cell_type": "markdown",
   "id": "f10ed9f8",
   "metadata": {},
   "source": [
    "# 33)Write a program to replace maximum 2 occurrences of space, comma, or dot with a colon."
   ]
  },
  {
   "cell_type": "code",
   "execution_count": 8,
   "id": "a4bb625c",
   "metadata": {},
   "outputs": [
    {
     "name": "stdout",
     "output_type": "stream",
     "text": [
      "occurrencesof space: comma: or dot with a colon.\n"
     ]
    }
   ],
   "source": [
    "import re\n",
    "text=\"occurrencesof space, comma, or dot with a colon.\"\n",
    "pattern=re.sub(r\"[,.]\",\":\",text,2)\n",
    "print(pattern)"
   ]
  },
  {
   "cell_type": "markdown",
   "id": "788b048c",
   "metadata": {},
   "source": [
    "# 34)Write a Python program to find all three, four, five characters long words in a string."
   ]
  },
  {
   "cell_type": "code",
   "execution_count": 3,
   "id": "2452eb4d",
   "metadata": {},
   "outputs": [
    {
     "name": "stdout",
     "output_type": "stream",
     "text": [
      "['find', 'all', 'three', 'four', 'five', 'long', 'words']\n"
     ]
    }
   ],
   "source": [
    "import re\n",
    "text=\"to find all three, four, five characters long words in a string.\"\n",
    "y=re.findall(r\"\\b\\w{3,5}\\b\",text)\n",
    "print(y)"
   ]
  },
  {
   "cell_type": "markdown",
   "id": "336e3a82",
   "metadata": {},
   "source": [
    "# 35)Write a program to extract values between quotation marks of a string."
   ]
  },
  {
   "cell_type": "code",
   "execution_count": 2,
   "id": "cd8549a0",
   "metadata": {},
   "outputs": [
    {
     "name": "stdout",
     "output_type": "stream",
     "text": [
      "['Python', 'DATASCIENCE', 'SQL']\n"
     ]
    }
   ],
   "source": [
    "import re\n",
    "text='\"Python\", \"DATASCIENCE\", \"SQL\"'\n",
    "y=re.findall(\"\\w+\",text)\n",
    "print(y)"
   ]
  },
  {
   "cell_type": "markdown",
   "id": "5243e727",
   "metadata": {},
   "source": [
    "# 36)How would you remove multiple spaces in a string?"
   ]
  },
  {
   "cell_type": "code",
   "execution_count": null,
   "id": "d147a574",
   "metadata": {},
   "outputs": [],
   "source": [
    "re.sub(\"\\s+\",\"\") is used to whitespaces from given string."
   ]
  }
 ],
 "metadata": {
  "kernelspec": {
   "display_name": "Python 3 (ipykernel)",
   "language": "python",
   "name": "python3"
  },
  "language_info": {
   "codemirror_mode": {
    "name": "ipython",
    "version": 3
   },
   "file_extension": ".py",
   "mimetype": "text/x-python",
   "name": "python",
   "nbconvert_exporter": "python",
   "pygments_lexer": "ipython3",
   "version": "3.9.12"
  }
 },
 "nbformat": 4,
 "nbformat_minor": 5
}
